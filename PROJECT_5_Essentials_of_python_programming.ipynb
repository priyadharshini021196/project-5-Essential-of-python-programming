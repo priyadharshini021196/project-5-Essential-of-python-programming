{
  "nbformat": 4,
  "nbformat_minor": 0,
  "metadata": {
    "colab": {
      "name": "PROJECT 5-Essentials of python programming.ipynb",
      "provenance": [],
      "collapsed_sections": []
    },
    "kernelspec": {
      "display_name": "Python 3",
      "name": "python3"
    },
    "language_info": {
      "name": "python"
    }
  },
  "cells": [
    {
      "cell_type": "code",
      "metadata": {
        "colab": {
          "background_save": true
        },
        "id": "rS-2nRpZbTlw",
        "outputId": "144f8d84-11ba-4948-c320-d9ddfb9e5bce"
      },
      "source": [
        "import random\n",
        "\n",
        "while True:\n",
        "    choices = [\"rock\",\"paper\",\"scissors\"]\n",
        "\n",
        "    computer = random.choice(choices)\n",
        "    player = None\n",
        "\n",
        "    while player not in choices:\n",
        "        player = input(\"rock, paper, or scissors?: \").lower()\n",
        "\n",
        "    if player == computer:\n",
        "        print(\"computer: \",computer)\n",
        "        print(\"player: \",player)\n",
        "        print(\"Tie!\")\n",
        "\n",
        "    elif player == \"rock\":\n",
        "        if computer == \"paper\":\n",
        "            print(\"computer: \", computer)\n",
        "            print(\"player: \", player)\n",
        "            print(\"You lose!\")\n",
        "        if computer == \"scissors\":\n",
        "            print(\"computer: \", computer)\n",
        "            print(\"player: \", player)\n",
        "            print(\"You win!\")\n",
        "\n",
        "    elif player == \"scissors\":\n",
        "        if computer == \"rock\":\n",
        "            print(\"computer: \", computer)\n",
        "            print(\"player: \", player)\n",
        "            print(\"You lose!\")\n",
        "        if computer == \"paper\":\n",
        "            print(\"computer: \", computer)\n",
        "            print(\"player: \", player)\n",
        "            print(\"You win!\")\n",
        "\n",
        "    elif player == \"paper\":\n",
        "        if computer == \"scissors\":\n",
        "            print(\"computer: \", computer)\n",
        "            print(\"player: \", player)\n",
        "            print(\"You lose!\")\n",
        "        if computer == \"rock\":\n",
        "            print(\"computer: \", computer)\n",
        "            print(\"player: \", player)\n",
        "            print(\"You win!\")\n",
        "\n",
        "    play_again = input(\"Play again? (yes/no): \").lower()\n",
        "\n",
        "    if play_again != \"yes\":\n",
        "        break\n",
        "\n",
        "print(\"Bye!\")"
      ],
      "execution_count": null,
      "outputs": [
        {
          "name": "stdout",
          "output_type": "stream",
          "text": [
            "computer:  paper\n",
            "player:  rock\n",
            "You lose!\n",
            "Bye!\n"
          ]
        }
      ]
    },
    {
      "cell_type": "code",
      "metadata": {
        "id": "YOB84iWbovj4"
      },
      "source": [
        ""
      ],
      "execution_count": null,
      "outputs": []
    },
    {
      "cell_type": "code",
      "metadata": {
        "id": "8ne2O0Ofoymm"
      },
      "source": [
        ""
      ],
      "execution_count": null,
      "outputs": []
    }
  ]
}